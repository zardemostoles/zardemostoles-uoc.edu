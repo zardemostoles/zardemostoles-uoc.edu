{
  "nbformat": 4,
  "nbformat_minor": 0,
  "metadata": {
    "colab": {
      "provenance": [],
      "mount_file_id": "1Va_AoKJM1Fg6Wx5vWwLr6TSWl8ZDaK1x",
      "authorship_tag": "ABX9TyPQc+d75mRZYPDTgf9Y6A77",
      "include_colab_link": true
    },
    "kernelspec": {
      "name": "python3",
      "display_name": "Python 3"
    },
    "language_info": {
      "name": "python"
    }
  },
  "cells": [
    {
      "cell_type": "markdown",
      "metadata": {
        "id": "view-in-github",
        "colab_type": "text"
      },
      "source": [
        "<a href=\"https://colab.research.google.com/github/zardemostoles/zardemostoles-uoc.edu/blob/master/TFG_EDA.ipynb\" target=\"_parent\"><img src=\"https://colab.research.google.com/assets/colab-badge.svg\" alt=\"Open In Colab\"/></a>"
      ]
    },
    {
      "cell_type": "markdown",
      "source": [
        "## Carga de módulos que se emplean en el notebook"
      ],
      "metadata": {
        "id": "yvWa2AWQi9vJ"
      }
    },
    {
      "cell_type": "code",
      "source": [
        "# Se cargan las bibliotecas que se van a usar en el ejercicio\n",
        "import numpy as np\n",
        "import pandas as pd\n",
        "import matplotlib.pyplot as plt\n",
        "import seaborn as sns; sns.set()\n",
        "import sys\n",
        "\n",
        "# Se monta el Google Drive\n",
        "from google.colab import drive\n",
        "drive.mount('/content/drive')\n",
        "sys.path.append('/content/drive/MyDrive/TFG/')\n",
        "from TFG_Comun import TFG_METADATA_ORIGINAL, TFG_METADATA_ITA, TFG_METADATA "
      ],
      "metadata": {
        "id": "jMPhdU6M-71D",
        "colab": {
          "base_uri": "https://localhost:8080/"
        },
        "outputId": "7d74e56a-1192-4a95-8e30-545973101463"
      },
      "execution_count": 2,
      "outputs": [
        {
          "output_type": "stream",
          "name": "stdout",
          "text": [
            "Drive already mounted at /content/drive; to attempt to forcibly remount, call drive.mount(\"/content/drive\", force_remount=True).\n"
          ]
        }
      ]
    },
    {
      "cell_type": "markdown",
      "source": [
        "## Ficheros que se cargan para el Análisis Exploratorio de Datos"
      ],
      "metadata": {
        "id": "kBhHe6OPiL1p"
      }
    },
    {
      "cell_type": "code",
      "execution_count": 3,
      "metadata": {
        "colab": {
          "base_uri": "https://localhost:8080/"
        },
        "id": "BkbDOtdk95ln",
        "outputId": "fc539ebd-f4b3-4475-ae2a-72c94f316905"
      },
      "outputs": [
        {
          "output_type": "stream",
          "name": "stdout",
          "text": [
            "Primeros registros del fichero de metadatos:\n",
            "image_name,patient_id,sex,age_approx,anatom_site_general_challenge,diagnosis,benign_malignant,target,tfrecord,width,height\n",
            "ISIC_0000000,-1,female,55.0,anterior torso,NV,benign,0,4,1022,767\n",
            "ISIC_0000001,-1,female,30.0,anterior torso,NV,benign,0,18,1022,767\n",
            "ISIC_0000002,-1,female,60.0,upper extremity,MEL,malignant,1,0,1022,767\n",
            "ISIC_0000003,-1,male,30.0,upper extremity,NV,benign,0,24,1022,767\n",
            "ISIC_0000004,-1,male,80.0,posterior torso,MEL,malignant,1,14,1022,767\n",
            "ISIC_0000006,-1,female,25.0,posterior torso,NV,benign,0,0,1022,767\n",
            "ISIC_0000007,-1,female,25.0,posterior torso,NV,benign,0,16,1022,767\n",
            "ISIC_0000008,-1,female,30.0,anterior torso,NV,benign,0,18,1022,767\n",
            "ISIC_0000009,-1,female,30.0,anterior torso,NV,benign,0,8,1022,767\n"
          ]
        }
      ],
      "source": [
        "# Fichero de metadatos:\n",
        "print (\"Primeros registros del fichero de metadatos:\")\n",
        "!cat {TFG_METADATA_ORIGINAL} | head"
      ]
    },
    {
      "cell_type": "code",
      "source": [
        "# Fichero de tipo de tono de piel ITA:\n",
        "print (\"Primeros registros del fichero de tipo de tono de piel ITA:\")\n",
        "!cat {TFG_METADATA_ITA} | head"
      ],
      "metadata": {
        "colab": {
          "base_uri": "https://localhost:8080/"
        },
        "id": "CgoM1fCdYWaj",
        "outputId": "b3178932-5b2a-4a90-917d-04a1a87f5f25"
      },
      "execution_count": 4,
      "outputs": [
        {
          "output_type": "stream",
          "name": "stdout",
          "text": [
            "Primeros registros del fichero de tipo de tono de piel ITA:\n",
            "image_name,tipo_ITA\n",
            "ISIC_0000002,6\n",
            "ISIC_0053467,1\n",
            "ISIC_0053459,1\n",
            "ISIC_0000000,6\n",
            "ISIC_0053470,6\n",
            "ISIC_0053515,1\n",
            "ISIC_0053456,1\n",
            "ISIC_0053506,1\n",
            "ISIC_0053475,1\n"
          ]
        }
      ]
    },
    {
      "cell_type": "markdown",
      "source": [
        "## Carga y preparación del dataframe Pandas"
      ],
      "metadata": {
        "id": "Gl6E8M1YjHGa"
      }
    },
    {
      "cell_type": "code",
      "source": [
        "# Se crea el dataframe pandas con los metadatos \n",
        "# y se muestran las 5 primeras filas               \n",
        "df_ISIC = pd.read_csv(TFG_METADATA_ORIGINAL)\n",
        "df_ISIC.head(5)"
      ],
      "metadata": {
        "colab": {
          "base_uri": "https://localhost:8080/",
          "height": 206
        },
        "id": "OQOmjWvn-fPL",
        "outputId": "913463fc-2ee9-47d0-82b3-0480a0378665"
      },
      "execution_count": 5,
      "outputs": [
        {
          "output_type": "execute_result",
          "data": {
            "text/plain": [
              "     image_name  patient_id     sex  age_approx anatom_site_general_challenge  \\\n",
              "0  ISIC_0000000          -1  female        55.0                anterior torso   \n",
              "1  ISIC_0000001          -1  female        30.0                anterior torso   \n",
              "2  ISIC_0000002          -1  female        60.0               upper extremity   \n",
              "3  ISIC_0000003          -1    male        30.0               upper extremity   \n",
              "4  ISIC_0000004          -1    male        80.0               posterior torso   \n",
              "\n",
              "  diagnosis benign_malignant  target  tfrecord  width  height  \n",
              "0        NV           benign       0         4   1022     767  \n",
              "1        NV           benign       0        18   1022     767  \n",
              "2       MEL        malignant       1         0   1022     767  \n",
              "3        NV           benign       0        24   1022     767  \n",
              "4       MEL        malignant       1        14   1022     767  "
            ],
            "text/html": [
              "\n",
              "  <div id=\"df-bb2cbcbf-e9ce-4fa7-a04a-b1f20dbb1af8\">\n",
              "    <div class=\"colab-df-container\">\n",
              "      <div>\n",
              "<style scoped>\n",
              "    .dataframe tbody tr th:only-of-type {\n",
              "        vertical-align: middle;\n",
              "    }\n",
              "\n",
              "    .dataframe tbody tr th {\n",
              "        vertical-align: top;\n",
              "    }\n",
              "\n",
              "    .dataframe thead th {\n",
              "        text-align: right;\n",
              "    }\n",
              "</style>\n",
              "<table border=\"1\" class=\"dataframe\">\n",
              "  <thead>\n",
              "    <tr style=\"text-align: right;\">\n",
              "      <th></th>\n",
              "      <th>image_name</th>\n",
              "      <th>patient_id</th>\n",
              "      <th>sex</th>\n",
              "      <th>age_approx</th>\n",
              "      <th>anatom_site_general_challenge</th>\n",
              "      <th>diagnosis</th>\n",
              "      <th>benign_malignant</th>\n",
              "      <th>target</th>\n",
              "      <th>tfrecord</th>\n",
              "      <th>width</th>\n",
              "      <th>height</th>\n",
              "    </tr>\n",
              "  </thead>\n",
              "  <tbody>\n",
              "    <tr>\n",
              "      <th>0</th>\n",
              "      <td>ISIC_0000000</td>\n",
              "      <td>-1</td>\n",
              "      <td>female</td>\n",
              "      <td>55.0</td>\n",
              "      <td>anterior torso</td>\n",
              "      <td>NV</td>\n",
              "      <td>benign</td>\n",
              "      <td>0</td>\n",
              "      <td>4</td>\n",
              "      <td>1022</td>\n",
              "      <td>767</td>\n",
              "    </tr>\n",
              "    <tr>\n",
              "      <th>1</th>\n",
              "      <td>ISIC_0000001</td>\n",
              "      <td>-1</td>\n",
              "      <td>female</td>\n",
              "      <td>30.0</td>\n",
              "      <td>anterior torso</td>\n",
              "      <td>NV</td>\n",
              "      <td>benign</td>\n",
              "      <td>0</td>\n",
              "      <td>18</td>\n",
              "      <td>1022</td>\n",
              "      <td>767</td>\n",
              "    </tr>\n",
              "    <tr>\n",
              "      <th>2</th>\n",
              "      <td>ISIC_0000002</td>\n",
              "      <td>-1</td>\n",
              "      <td>female</td>\n",
              "      <td>60.0</td>\n",
              "      <td>upper extremity</td>\n",
              "      <td>MEL</td>\n",
              "      <td>malignant</td>\n",
              "      <td>1</td>\n",
              "      <td>0</td>\n",
              "      <td>1022</td>\n",
              "      <td>767</td>\n",
              "    </tr>\n",
              "    <tr>\n",
              "      <th>3</th>\n",
              "      <td>ISIC_0000003</td>\n",
              "      <td>-1</td>\n",
              "      <td>male</td>\n",
              "      <td>30.0</td>\n",
              "      <td>upper extremity</td>\n",
              "      <td>NV</td>\n",
              "      <td>benign</td>\n",
              "      <td>0</td>\n",
              "      <td>24</td>\n",
              "      <td>1022</td>\n",
              "      <td>767</td>\n",
              "    </tr>\n",
              "    <tr>\n",
              "      <th>4</th>\n",
              "      <td>ISIC_0000004</td>\n",
              "      <td>-1</td>\n",
              "      <td>male</td>\n",
              "      <td>80.0</td>\n",
              "      <td>posterior torso</td>\n",
              "      <td>MEL</td>\n",
              "      <td>malignant</td>\n",
              "      <td>1</td>\n",
              "      <td>14</td>\n",
              "      <td>1022</td>\n",
              "      <td>767</td>\n",
              "    </tr>\n",
              "  </tbody>\n",
              "</table>\n",
              "</div>\n",
              "      <button class=\"colab-df-convert\" onclick=\"convertToInteractive('df-bb2cbcbf-e9ce-4fa7-a04a-b1f20dbb1af8')\"\n",
              "              title=\"Convert this dataframe to an interactive table.\"\n",
              "              style=\"display:none;\">\n",
              "        \n",
              "  <svg xmlns=\"http://www.w3.org/2000/svg\" height=\"24px\"viewBox=\"0 0 24 24\"\n",
              "       width=\"24px\">\n",
              "    <path d=\"M0 0h24v24H0V0z\" fill=\"none\"/>\n",
              "    <path d=\"M18.56 5.44l.94 2.06.94-2.06 2.06-.94-2.06-.94-.94-2.06-.94 2.06-2.06.94zm-11 1L8.5 8.5l.94-2.06 2.06-.94-2.06-.94L8.5 2.5l-.94 2.06-2.06.94zm10 10l.94 2.06.94-2.06 2.06-.94-2.06-.94-.94-2.06-.94 2.06-2.06.94z\"/><path d=\"M17.41 7.96l-1.37-1.37c-.4-.4-.92-.59-1.43-.59-.52 0-1.04.2-1.43.59L10.3 9.45l-7.72 7.72c-.78.78-.78 2.05 0 2.83L4 21.41c.39.39.9.59 1.41.59.51 0 1.02-.2 1.41-.59l7.78-7.78 2.81-2.81c.8-.78.8-2.07 0-2.86zM5.41 20L4 18.59l7.72-7.72 1.47 1.35L5.41 20z\"/>\n",
              "  </svg>\n",
              "      </button>\n",
              "      \n",
              "  <style>\n",
              "    .colab-df-container {\n",
              "      display:flex;\n",
              "      flex-wrap:wrap;\n",
              "      gap: 12px;\n",
              "    }\n",
              "\n",
              "    .colab-df-convert {\n",
              "      background-color: #E8F0FE;\n",
              "      border: none;\n",
              "      border-radius: 50%;\n",
              "      cursor: pointer;\n",
              "      display: none;\n",
              "      fill: #1967D2;\n",
              "      height: 32px;\n",
              "      padding: 0 0 0 0;\n",
              "      width: 32px;\n",
              "    }\n",
              "\n",
              "    .colab-df-convert:hover {\n",
              "      background-color: #E2EBFA;\n",
              "      box-shadow: 0px 1px 2px rgba(60, 64, 67, 0.3), 0px 1px 3px 1px rgba(60, 64, 67, 0.15);\n",
              "      fill: #174EA6;\n",
              "    }\n",
              "\n",
              "    [theme=dark] .colab-df-convert {\n",
              "      background-color: #3B4455;\n",
              "      fill: #D2E3FC;\n",
              "    }\n",
              "\n",
              "    [theme=dark] .colab-df-convert:hover {\n",
              "      background-color: #434B5C;\n",
              "      box-shadow: 0px 1px 3px 1px rgba(0, 0, 0, 0.15);\n",
              "      filter: drop-shadow(0px 1px 2px rgba(0, 0, 0, 0.3));\n",
              "      fill: #FFFFFF;\n",
              "    }\n",
              "  </style>\n",
              "\n",
              "      <script>\n",
              "        const buttonEl =\n",
              "          document.querySelector('#df-bb2cbcbf-e9ce-4fa7-a04a-b1f20dbb1af8 button.colab-df-convert');\n",
              "        buttonEl.style.display =\n",
              "          google.colab.kernel.accessAllowed ? 'block' : 'none';\n",
              "\n",
              "        async function convertToInteractive(key) {\n",
              "          const element = document.querySelector('#df-bb2cbcbf-e9ce-4fa7-a04a-b1f20dbb1af8');\n",
              "          const dataTable =\n",
              "            await google.colab.kernel.invokeFunction('convertToInteractive',\n",
              "                                                     [key], {});\n",
              "          if (!dataTable) return;\n",
              "\n",
              "          const docLinkHtml = 'Like what you see? Visit the ' +\n",
              "            '<a target=\"_blank\" href=https://colab.research.google.com/notebooks/data_table.ipynb>data table notebook</a>'\n",
              "            + ' to learn more about interactive tables.';\n",
              "          element.innerHTML = '';\n",
              "          dataTable['output_type'] = 'display_data';\n",
              "          await google.colab.output.renderOutput(dataTable, element);\n",
              "          const docLink = document.createElement('div');\n",
              "          docLink.innerHTML = docLinkHtml;\n",
              "          element.appendChild(docLink);\n",
              "        }\n",
              "      </script>\n",
              "    </div>\n",
              "  </div>\n",
              "  "
            ]
          },
          "metadata": {},
          "execution_count": 5
        }
      ]
    },
    {
      "cell_type": "code",
      "source": [
        "# Se comprueba que no hay información de ID de paciente\n",
        "df_ISIC[\"patient_id\"].unique()"
      ],
      "metadata": {
        "colab": {
          "base_uri": "https://localhost:8080/"
        },
        "id": "hPly-SDG-s2r",
        "outputId": "4caf6986-3c82-44a6-fd9e-d36a698f9fba"
      },
      "execution_count": 6,
      "outputs": [
        {
          "output_type": "execute_result",
          "data": {
            "text/plain": [
              "array([-1])"
            ]
          },
          "metadata": {},
          "execution_count": 6
        }
      ]
    },
    {
      "cell_type": "code",
      "source": [
        "# Dimensiones del dataframe con los metadatos\n",
        "df_ISIC.shape"
      ],
      "metadata": {
        "colab": {
          "base_uri": "https://localhost:8080/"
        },
        "id": "1mF4LoibCk-i",
        "outputId": "bf28a390-3756-41eb-88d4-b07d8df9c16c"
      },
      "execution_count": 7,
      "outputs": [
        {
          "output_type": "execute_result",
          "data": {
            "text/plain": [
              "(25331, 11)"
            ]
          },
          "metadata": {},
          "execution_count": 7
        }
      ]
    },
    {
      "cell_type": "code",
      "source": [
        "# Se crea el dataframe pandas con los tipos de tono de piel ITA \n",
        "# y se muestran las 5 primeras filas               \n",
        "df_ITA = pd.read_csv(TFG_METADATA_ITA)\n",
        "df_ITA.head(5)"
      ],
      "metadata": {
        "colab": {
          "base_uri": "https://localhost:8080/",
          "height": 206
        },
        "id": "fPYYBV6UY06o",
        "outputId": "4450f142-7fc7-4bc2-9165-165a06c86c02"
      },
      "execution_count": 8,
      "outputs": [
        {
          "output_type": "execute_result",
          "data": {
            "text/plain": [
              "     image_name  tipo_ITA\n",
              "0  ISIC_0000002         6\n",
              "1  ISIC_0053467         1\n",
              "2  ISIC_0053459         1\n",
              "3  ISIC_0000000         6\n",
              "4  ISIC_0053470         6"
            ],
            "text/html": [
              "\n",
              "  <div id=\"df-e777dc45-d278-483a-b2f7-608f55576a14\">\n",
              "    <div class=\"colab-df-container\">\n",
              "      <div>\n",
              "<style scoped>\n",
              "    .dataframe tbody tr th:only-of-type {\n",
              "        vertical-align: middle;\n",
              "    }\n",
              "\n",
              "    .dataframe tbody tr th {\n",
              "        vertical-align: top;\n",
              "    }\n",
              "\n",
              "    .dataframe thead th {\n",
              "        text-align: right;\n",
              "    }\n",
              "</style>\n",
              "<table border=\"1\" class=\"dataframe\">\n",
              "  <thead>\n",
              "    <tr style=\"text-align: right;\">\n",
              "      <th></th>\n",
              "      <th>image_name</th>\n",
              "      <th>tipo_ITA</th>\n",
              "    </tr>\n",
              "  </thead>\n",
              "  <tbody>\n",
              "    <tr>\n",
              "      <th>0</th>\n",
              "      <td>ISIC_0000002</td>\n",
              "      <td>6</td>\n",
              "    </tr>\n",
              "    <tr>\n",
              "      <th>1</th>\n",
              "      <td>ISIC_0053467</td>\n",
              "      <td>1</td>\n",
              "    </tr>\n",
              "    <tr>\n",
              "      <th>2</th>\n",
              "      <td>ISIC_0053459</td>\n",
              "      <td>1</td>\n",
              "    </tr>\n",
              "    <tr>\n",
              "      <th>3</th>\n",
              "      <td>ISIC_0000000</td>\n",
              "      <td>6</td>\n",
              "    </tr>\n",
              "    <tr>\n",
              "      <th>4</th>\n",
              "      <td>ISIC_0053470</td>\n",
              "      <td>6</td>\n",
              "    </tr>\n",
              "  </tbody>\n",
              "</table>\n",
              "</div>\n",
              "      <button class=\"colab-df-convert\" onclick=\"convertToInteractive('df-e777dc45-d278-483a-b2f7-608f55576a14')\"\n",
              "              title=\"Convert this dataframe to an interactive table.\"\n",
              "              style=\"display:none;\">\n",
              "        \n",
              "  <svg xmlns=\"http://www.w3.org/2000/svg\" height=\"24px\"viewBox=\"0 0 24 24\"\n",
              "       width=\"24px\">\n",
              "    <path d=\"M0 0h24v24H0V0z\" fill=\"none\"/>\n",
              "    <path d=\"M18.56 5.44l.94 2.06.94-2.06 2.06-.94-2.06-.94-.94-2.06-.94 2.06-2.06.94zm-11 1L8.5 8.5l.94-2.06 2.06-.94-2.06-.94L8.5 2.5l-.94 2.06-2.06.94zm10 10l.94 2.06.94-2.06 2.06-.94-2.06-.94-.94-2.06-.94 2.06-2.06.94z\"/><path d=\"M17.41 7.96l-1.37-1.37c-.4-.4-.92-.59-1.43-.59-.52 0-1.04.2-1.43.59L10.3 9.45l-7.72 7.72c-.78.78-.78 2.05 0 2.83L4 21.41c.39.39.9.59 1.41.59.51 0 1.02-.2 1.41-.59l7.78-7.78 2.81-2.81c.8-.78.8-2.07 0-2.86zM5.41 20L4 18.59l7.72-7.72 1.47 1.35L5.41 20z\"/>\n",
              "  </svg>\n",
              "      </button>\n",
              "      \n",
              "  <style>\n",
              "    .colab-df-container {\n",
              "      display:flex;\n",
              "      flex-wrap:wrap;\n",
              "      gap: 12px;\n",
              "    }\n",
              "\n",
              "    .colab-df-convert {\n",
              "      background-color: #E8F0FE;\n",
              "      border: none;\n",
              "      border-radius: 50%;\n",
              "      cursor: pointer;\n",
              "      display: none;\n",
              "      fill: #1967D2;\n",
              "      height: 32px;\n",
              "      padding: 0 0 0 0;\n",
              "      width: 32px;\n",
              "    }\n",
              "\n",
              "    .colab-df-convert:hover {\n",
              "      background-color: #E2EBFA;\n",
              "      box-shadow: 0px 1px 2px rgba(60, 64, 67, 0.3), 0px 1px 3px 1px rgba(60, 64, 67, 0.15);\n",
              "      fill: #174EA6;\n",
              "    }\n",
              "\n",
              "    [theme=dark] .colab-df-convert {\n",
              "      background-color: #3B4455;\n",
              "      fill: #D2E3FC;\n",
              "    }\n",
              "\n",
              "    [theme=dark] .colab-df-convert:hover {\n",
              "      background-color: #434B5C;\n",
              "      box-shadow: 0px 1px 3px 1px rgba(0, 0, 0, 0.15);\n",
              "      filter: drop-shadow(0px 1px 2px rgba(0, 0, 0, 0.3));\n",
              "      fill: #FFFFFF;\n",
              "    }\n",
              "  </style>\n",
              "\n",
              "      <script>\n",
              "        const buttonEl =\n",
              "          document.querySelector('#df-e777dc45-d278-483a-b2f7-608f55576a14 button.colab-df-convert');\n",
              "        buttonEl.style.display =\n",
              "          google.colab.kernel.accessAllowed ? 'block' : 'none';\n",
              "\n",
              "        async function convertToInteractive(key) {\n",
              "          const element = document.querySelector('#df-e777dc45-d278-483a-b2f7-608f55576a14');\n",
              "          const dataTable =\n",
              "            await google.colab.kernel.invokeFunction('convertToInteractive',\n",
              "                                                     [key], {});\n",
              "          if (!dataTable) return;\n",
              "\n",
              "          const docLinkHtml = 'Like what you see? Visit the ' +\n",
              "            '<a target=\"_blank\" href=https://colab.research.google.com/notebooks/data_table.ipynb>data table notebook</a>'\n",
              "            + ' to learn more about interactive tables.';\n",
              "          element.innerHTML = '';\n",
              "          dataTable['output_type'] = 'display_data';\n",
              "          await google.colab.output.renderOutput(dataTable, element);\n",
              "          const docLink = document.createElement('div');\n",
              "          docLink.innerHTML = docLinkHtml;\n",
              "          element.appendChild(docLink);\n",
              "        }\n",
              "      </script>\n",
              "    </div>\n",
              "  </div>\n",
              "  "
            ]
          },
          "metadata": {},
          "execution_count": 8
        }
      ]
    },
    {
      "cell_type": "code",
      "source": [
        "# Dimensiones del dataframe con los tipos de tono de piel ITA \n",
        "df_ITA.shape"
      ],
      "metadata": {
        "colab": {
          "base_uri": "https://localhost:8080/"
        },
        "id": "Gol10XOba4mj",
        "outputId": "7ee72824-839d-48a5-a773-306361c39861"
      },
      "execution_count": 9,
      "outputs": [
        {
          "output_type": "execute_result",
          "data": {
            "text/plain": [
              "(23218, 2)"
            ]
          },
          "metadata": {},
          "execution_count": 9
        }
      ]
    },
    {
      "cell_type": "code",
      "source": [
        "# Se elimina la columna de ID de paciente\n",
        "# y otras columnas no necesarias\n",
        "df_ISIC = df_ISIC.drop(columns=[\"patient_id\", \"tfrecord\", \"width\", \"height\"], axis=1)"
      ],
      "metadata": {
        "id": "33i0PmbCB9GF"
      },
      "execution_count": 10,
      "outputs": []
    },
    {
      "cell_type": "code",
      "source": [
        "# Se cuentan cuantas imágenes son \"downsampled\"\n",
        "df_ISIC[df_ISIC['image_name'].str.contains(\"_downsampled\")]['image_name'].count()"
      ],
      "metadata": {
        "colab": {
          "base_uri": "https://localhost:8080/"
        },
        "id": "rzGsfTtdCAZi",
        "outputId": "4fbc5a85-0f63-4d0b-a2ed-7b22926eddba"
      },
      "execution_count": 11,
      "outputs": [
        {
          "output_type": "execute_result",
          "data": {
            "text/plain": [
              "2074"
            ]
          },
          "metadata": {},
          "execution_count": 11
        }
      ]
    },
    {
      "cell_type": "code",
      "source": [
        "# Se eliminan los registros con imágenes \"downsampled\"\n",
        "df_ISIC = df_ISIC[df_ISIC['image_name'].str.contains(\"_downsampled\")==False]"
      ],
      "metadata": {
        "id": "-Ny28zOvL5ld"
      },
      "execution_count": 12,
      "outputs": []
    },
    {
      "cell_type": "code",
      "source": [
        "# Se combinan los dataframes de metadatos y tipos de tono de piel\n",
        "df_ISIC = df_ISIC.merge(df_ITA, on='image_name', how='left')"
      ],
      "metadata": {
        "id": "eHuy4ZLLbjah"
      },
      "execution_count": 13,
      "outputs": []
    },
    {
      "cell_type": "code",
      "source": [
        "# Dimensiones del dataframe con datos combinados\n",
        "df_ISIC.shape"
      ],
      "metadata": {
        "colab": {
          "base_uri": "https://localhost:8080/"
        },
        "id": "YYMVz5X-cAqH",
        "outputId": "b9696fff-f71f-4650-f3e4-c21fc4851a0c"
      },
      "execution_count": 14,
      "outputs": [
        {
          "output_type": "execute_result",
          "data": {
            "text/plain": [
              "(23257, 8)"
            ]
          },
          "metadata": {},
          "execution_count": 14
        }
      ]
    },
    {
      "cell_type": "code",
      "source": [
        "# Se convierte el tipo de tono de piel a cadena\n",
        "df_ISIC[\"tipo_ITA\"] = df_ISIC[\"tipo_ITA\"].fillna(\"-1\").astype(int).astype(str).replace('-1', None)\n",
        "# Se crean agrupamientos de edades\n",
        "bins = [0, 15, 30, 45, 60, 75, 90, 120]\n",
        "# Se crea una nueva columna con agrupaciones por edades\n",
        "df_ISIC['age_group_approx'] = pd.cut(df_ISIC['age_approx'], bins).astype(str).replace('nan', None)\n",
        "df_ISIC.dtypes"
      ],
      "metadata": {
        "colab": {
          "base_uri": "https://localhost:8080/"
        },
        "id": "tp0MdNC3OfnE",
        "outputId": "8d88ffd8-277f-472d-9e7f-104e9634dc46"
      },
      "execution_count": 15,
      "outputs": [
        {
          "output_type": "execute_result",
          "data": {
            "text/plain": [
              "image_name                        object\n",
              "sex                               object\n",
              "age_approx                       float64\n",
              "anatom_site_general_challenge     object\n",
              "diagnosis                         object\n",
              "benign_malignant                  object\n",
              "target                             int64\n",
              "tipo_ITA                          object\n",
              "age_group_approx                  object\n",
              "dtype: object"
            ]
          },
          "metadata": {},
          "execution_count": 15
        }
      ]
    },
    {
      "cell_type": "markdown",
      "source": [
        "## Análisis exploratorio de datos"
      ],
      "metadata": {
        "id": "ld6rv9EDkw0p"
      }
    },
    {
      "cell_type": "code",
      "source": [
        "# Se transforma el valor binario del diagnóstico a texto\n",
        "df_ISIC['target'] = df_ISIC['target'].replace({0: \"no melanoma\", 1: \"melanoma\"})"
      ],
      "metadata": {
        "id": "zJqLPPHi2gqe"
      },
      "execution_count": 16,
      "outputs": []
    },
    {
      "cell_type": "code",
      "source": [
        "print(\"Total de casos\\n\")\n",
        "print(\"Totales\")\n",
        "print((df_ISIC['target'].value_counts()).to_string())\n",
        "print(\"\\nPorcentajes\")\n",
        "print(round(df_ISIC['target'].value_counts(normalize=True) * 100,2).to_string())"
      ],
      "metadata": {
        "colab": {
          "base_uri": "https://localhost:8080/"
        },
        "id": "bMq4vmVGUXGd",
        "outputId": "e44639fa-ab7f-43ee-bb2c-066e073dafd4"
      },
      "execution_count": 17,
      "outputs": [
        {
          "output_type": "stream",
          "name": "stdout",
          "text": [
            "Total de casos\n",
            "\n",
            "Totales\n",
            "no melanoma    19109\n",
            "melanoma        4148\n",
            "\n",
            "Porcentajes\n",
            "no melanoma    82.16\n",
            "melanoma       17.84\n"
          ]
        }
      ]
    },
    {
      "cell_type": "code",
      "source": [
        "# Desglose por variables categóricas\n",
        "col_categories = [\"sex\", \"age_group_approx\", \"tipo_ITA\", \"anatom_site_general_challenge\"]\n",
        "for col in col_categories:\n",
        "  print(col)\n",
        "  print(\"===============================\")\n",
        "  print(\"Total de casos\\n\")\n",
        "  print(\"Totales\")\n",
        "  print((df_ISIC[col].value_counts()).to_string())\n",
        "  print(\"\\nPorcentajes\")\n",
        "  print(round(df_ISIC[col].value_counts(normalize=True) * 100,2).to_string())\n",
        "  print(\"Totales\")\n",
        "  print(pd.crosstab(df_ISIC[col],df_ISIC[\"target\"]))\n",
        "  print(\"\\nPorcentajes\")\n",
        "  crosstb = round(pd.crosstab(df_ISIC[col],df_ISIC[\"target\"], normalize='index')*100, 2)\n",
        "  print(crosstb)\n",
        "  print(\"\\n\")"
      ],
      "metadata": {
        "colab": {
          "base_uri": "https://localhost:8080/"
        },
        "id": "uNTtwTJxM8ZT",
        "outputId": "14decadc-82ef-4e25-f27a-556fbac16d76"
      },
      "execution_count": 31,
      "outputs": [
        {
          "output_type": "stream",
          "name": "stdout",
          "text": [
            "sex\n",
            "===============================\n",
            "Total de casos\n",
            "\n",
            "Totales\n",
            "male       12279\n",
            "female     10774\n",
            "unknown      204\n",
            "\n",
            "Porcentajes\n",
            "male       52.80\n",
            "female     46.33\n",
            "unknown     0.88\n",
            "Totales\n",
            "target       0     1\n",
            "sex                 \n",
            "female    8907  1867\n",
            "male     10032  2247\n",
            "unknown    170    34\n",
            "\n",
            "Porcentajes\n",
            "target       0      1\n",
            "sex                  \n",
            "female   82.67  17.33\n",
            "male     81.70  18.30\n",
            "unknown  83.33  16.67\n",
            "\n",
            "\n",
            "age_group_approx\n",
            "===============================\n",
            "Total de casos\n",
            "\n",
            "Totales\n",
            "(45, 60]    6288\n",
            "(30, 45]    6140\n",
            "(60, 75]    5581\n",
            "(75, 90]    2640\n",
            "(15, 30]    2098\n",
            "(0, 15]      510\n",
            "\n",
            "Porcentajes\n",
            "(45, 60]    27.04\n",
            "(30, 45]    26.40\n",
            "(60, 75]    24.00\n",
            "(75, 90]    11.35\n",
            "(15, 30]     9.02\n",
            "(0, 15]      2.19\n",
            "Totales\n",
            "target               0     1\n",
            "age_group_approx            \n",
            "(0, 15]            482    28\n",
            "(15, 30]          1943   155\n",
            "(30, 45]          5364   776\n",
            "(45, 60]          5096  1192\n",
            "(60, 75]          4278  1303\n",
            "(75, 90]          1946   694\n",
            "\n",
            "Porcentajes\n",
            "target                0      1\n",
            "age_group_approx              \n",
            "(0, 15]           94.51   5.49\n",
            "(15, 30]          92.61   7.39\n",
            "(30, 45]          87.36  12.64\n",
            "(45, 60]          81.04  18.96\n",
            "(60, 75]          76.65  23.35\n",
            "(75, 90]          73.71  26.29\n",
            "\n",
            "\n",
            "tipo_ITA\n",
            "===============================\n",
            "Total de casos\n",
            "\n",
            "Totales\n",
            "1    17290\n",
            "6     3549\n",
            "2     1168\n",
            "3      719\n",
            "4      340\n",
            "5      191\n",
            "\n",
            "Porcentajes\n",
            "1    74.34\n",
            "6    15.26\n",
            "2     5.02\n",
            "3     3.09\n",
            "4     1.46\n",
            "5     0.82\n",
            "Totales\n",
            "target        0     1\n",
            "tipo_ITA             \n",
            "1         14098  3192\n",
            "2          1020   148\n",
            "3           640    79\n",
            "4           298    42\n",
            "5           166    25\n",
            "6          2887   662\n",
            "\n",
            "Porcentajes\n",
            "target        0      1\n",
            "tipo_ITA              \n",
            "1         81.54  18.46\n",
            "2         87.33  12.67\n",
            "3         89.01  10.99\n",
            "4         87.65  12.35\n",
            "5         86.91  13.09\n",
            "6         81.35  18.65\n",
            "\n",
            "\n",
            "anatom_site_general_challenge\n",
            "===============================\n",
            "Total de casos\n",
            "\n",
            "Totales\n",
            "anterior torso     6683\n",
            "lower extremity    4734\n",
            "head/neck          4386\n",
            "upper extremity    2649\n",
            "posterior torso    2466\n",
            "palms/soles         391\n",
            "oral/genital         59\n",
            "lateral torso         6\n",
            "\n",
            "Porcentajes\n",
            "anterior torso     31.27\n",
            "lower extremity    22.15\n",
            "head/neck          20.52\n",
            "upper extremity    12.39\n",
            "posterior torso    11.54\n",
            "palms/soles         1.83\n",
            "oral/genital        0.28\n",
            "lateral torso       0.03\n",
            "Totales\n",
            "target                            0     1\n",
            "anatom_site_general_challenge            \n",
            "anterior torso                 5399  1284\n",
            "head/neck                      3564   822\n",
            "lateral torso                     3     3\n",
            "lower extremity                3997   737\n",
            "oral/genital                     40    19\n",
            "palms/soles                     193   198\n",
            "posterior torso                2096   370\n",
            "upper extremity                2010   639\n",
            "\n",
            "Porcentajes\n",
            "target                             0      1\n",
            "anatom_site_general_challenge              \n",
            "anterior torso                 80.79  19.21\n",
            "head/neck                      81.26  18.74\n",
            "lateral torso                  50.00  50.00\n",
            "lower extremity                84.43  15.57\n",
            "oral/genital                   67.80  32.20\n",
            "palms/soles                    49.36  50.64\n",
            "posterior torso                85.00  15.00\n",
            "upper extremity                75.88  24.12\n",
            "\n",
            "\n"
          ]
        }
      ]
    },
    {
      "cell_type": "code",
      "source": [
        "# Representación gráfica\n",
        "col_bars = {\n",
        "    \"sex\": \"Sexo\",\n",
        "    \"age_group_approx\": \"Grupo de edad aproximada\",\n",
        "    \"tipo_ITA\": \"tipo de tono de piel ITA\"\n",
        "}\n",
        "for key, value in col_bars.items():\n",
        "  crosstb = round(pd.crosstab(df_ISIC[key],df_ISIC[\"target\"], normalize='index')*100, 2)\n",
        "  ax = crosstb[1].plot(title=\"Porcentaje de casos de melanoma\", kind=\"bar\", color=\"indianred\",\n",
        "                  stacked=False, rot=0, figsize=(7,4))\n",
        "  ax.set_xlabel(value);\n",
        "  plt.show();\n"
      ],
      "metadata": {
        "colab": {
          "base_uri": "https://localhost:8080/",
          "height": 869
        },
        "id": "8nvXR0Fv5sL4",
        "outputId": "5a9f94e2-4b41-41d8-d360-cebe4a1d2d2b"
      },
      "execution_count": 43,
      "outputs": [
        {
          "output_type": "display_data",
          "data": {
            "text/plain": [
              "<Figure size 504x288 with 1 Axes>"
            ],
            "image/png": "[encoded data removed]"
          },
          "metadata": {}
        },
        {
          "output_type": "display_data",
          "data": {
            "text/plain": [
              "<Figure size 504x288 with 1 Axes>"
            ],
            "image/png": "[encoded data removed]"
          },
          "metadata": {}
        },
        {
          "output_type": "display_data",
          "data": {
            "text/plain": [
              "<Figure size 504x288 with 1 Axes>"
            ],
            "image/png": "[encoded data removed]"
          },
          "metadata": {}
        }
      ]
    },
    {
      "cell_type": "code",
      "source": [
        "col_bars = {\n",
        "    \"sex\": \"Sexo\",\n",
        "    \"age_group_approx\": \"Grupo de edad aproximada\",\n",
        "    \"tipo_ITA\": \"tipo de tono de piel ITA\"\n",
        "}\n",
        "\n",
        "for key, value in col_bars.items():\n",
        "  ax = df_ISIC[key]\\\n",
        "                             .value_counts().sort_index()\\\n",
        "                             .plot(kind='bar',rot=0,\n",
        "                             figsize=(7,4));\n",
        "  ax.set_xlabel(value);\n",
        "  ax.set_title(\"Número de imágenes\");\n",
        "  plt.show();"
      ],
      "metadata": {
        "colab": {
          "base_uri": "https://localhost:8080/",
          "height": 869
        },
        "id": "xC7_mv6wYd8t",
        "outputId": "62eda9a7-1ed0-4a08-a212-02a3bf459cd2"
      },
      "execution_count": 40,
      "outputs": [
        {
          "output_type": "display_data",
          "data": {
            "text/plain": [
              "<Figure size 504x288 with 1 Axes>"
            ],
            "image/png": "[encoded data removed]"
          },
          "metadata": {}
        },
        {
          "output_type": "display_data",
          "data": {
            "text/plain": [
              "<Figure size 504x288 with 1 Axes>"
            ],
            "image/png": "[encoded data removed]"
          },
          "metadata": {}
        },
        {
          "output_type": "display_data",
          "data": {
            "text/plain": [
              "<Figure size 504x288 with 1 Axes>"
            ],
            "image/png": "[encoded data removed]"
          },
          "metadata": {}
        }
      ]
    },
    {
      "cell_type": "code",
      "source": [
        "# Se transforma el valor de diagnóstico de texto a binario\n",
        "df_ISIC['target'] = df_ISIC['target'].replace({\"no melanoma\": 0, \"melanoma\": 1})\n",
        "# Guarda el dataframe en un fichero CSV\n",
        "!mv {TFG_METADATA} {TFG_METADATA}.back\n",
        "df_ISIC.to_csv(TFG_METADATA,index=False)"
      ],
      "metadata": {
        "id": "gw-qs_PofIiO"
      },
      "execution_count": 20,
      "outputs": []
    }
  ]
}