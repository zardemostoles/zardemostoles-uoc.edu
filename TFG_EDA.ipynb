{
  "nbformat": 4,
  "nbformat_minor": 0,
  "metadata": {
    "colab": {
      "provenance": [],
      "mount_file_id": "1Va_AoKJM1Fg6Wx5vWwLr6TSWl8ZDaK1x",
      "authorship_tag": "ABX9TyPYvTERrMTb/5Boc0TSjjuB",
      "include_colab_link": true
    },
    "kernelspec": {
      "name": "python3",
      "display_name": "Python 3"
    },
    "language_info": {
      "name": "python"
    }
  },
  "cells": [
    {
      "cell_type": "markdown",
      "metadata": {
        "id": "view-in-github",
        "colab_type": "text"
      },
      "source": [
        "<a href=\"https://colab.research.google.com/github/zardemostoles/zardemostoles-uoc.edu/blob/master/TFG_EDA.ipynb\" target=\"_parent\"><img src=\"https://colab.research.google.com/assets/colab-badge.svg\" alt=\"Open In Colab\"/></a>"
      ]
    },
    {
      "cell_type": "markdown",
      "source": [
        "## Ficheros que se cargan para el Análisis Exploratorio de Datos"
      ],
      "metadata": {
        "id": "kBhHe6OPiL1p"
      }
    },
    {
      "cell_type": "code",
      "execution_count": 1,
      "metadata": {
        "colab": {
          "base_uri": "https://localhost:8080/"
        },
        "id": "BkbDOtdk95ln",
        "outputId": "12019b39-8a6f-4cdc-8f23-ee0045738716"
      },
      "outputs": [
        {
          "output_type": "stream",
          "name": "stdout",
          "text": [
            "Primeros registros del fichero de metadatos:\n",
            "image_name,patient_id,sex,age_approx,anatom_site_general_challenge,diagnosis,benign_malignant,target,tfrecord,width,height\n",
            "ISIC_0000000,-1,female,55.0,anterior torso,NV,benign,0,4,1022,767\n",
            "ISIC_0000001,-1,female,30.0,anterior torso,NV,benign,0,18,1022,767\n",
            "ISIC_0000002,-1,female,60.0,upper extremity,MEL,malignant,1,0,1022,767\n",
            "ISIC_0000003,-1,male,30.0,upper extremity,NV,benign,0,24,1022,767\n",
            "ISIC_0000004,-1,male,80.0,posterior torso,MEL,malignant,1,14,1022,767\n",
            "ISIC_0000006,-1,female,25.0,posterior torso,NV,benign,0,0,1022,767\n",
            "ISIC_0000007,-1,female,25.0,posterior torso,NV,benign,0,16,1022,767\n",
            "ISIC_0000008,-1,female,30.0,anterior torso,NV,benign,0,18,1022,767\n",
            "ISIC_0000009,-1,female,30.0,anterior torso,NV,benign,0,8,1022,767\n"
          ]
        }
      ],
      "source": [
        "# Fichero de metadatos:\n",
        "print (\"Primeros registros del fichero de metadatos:\")\n",
        "!cat /content/drive/MyDrive/TFG/train.csv | head"
      ]
    },
    {
      "cell_type": "code",
      "source": [
        "# Fichero de tipo de tono de piel ITA:\n",
        "print (\"Primeros registros del fichero de tipo de tono de piel ITA:\")\n",
        "!cat /content/drive/MyDrive/TFG/TFG_tono_piel_ITA.csv | head"
      ],
      "metadata": {
        "colab": {
          "base_uri": "https://localhost:8080/"
        },
        "id": "CgoM1fCdYWaj",
        "outputId": "033d5416-577c-471f-9c5c-3dc251a5d077"
      },
      "execution_count": 2,
      "outputs": [
        {
          "output_type": "stream",
          "name": "stdout",
          "text": [
            "Primeros registros del fichero de tipo de tono de piel ITA:\n",
            "image_name,tipo_ITA\n",
            "ISIC_0000002,6\n",
            "ISIC_0053467,1\n",
            "ISIC_0053459,1\n",
            "ISIC_0000000,6\n",
            "ISIC_0053470,6\n",
            "ISIC_0053515,1\n",
            "ISIC_0053456,1\n",
            "ISIC_0053506,1\n",
            "ISIC_0053475,1\n"
          ]
        }
      ]
    },
    {
      "cell_type": "markdown",
      "source": [
        "## Carga de módulos que se emplean en el notebook"
      ],
      "metadata": {
        "id": "yvWa2AWQi9vJ"
      }
    },
    {
      "cell_type": "code",
      "source": [
        "# Se cargan las bibliotecas que se van a usar en el ejercicio\n",
        "import numpy as np\n",
        "import pandas as pd\n",
        "import matplotlib.pyplot as plt\n",
        "import seaborn as sns; sns.set()\n",
        "from matplotlib.gridspec import GridSpec"
      ],
      "metadata": {
        "id": "jMPhdU6M-71D"
      },
      "execution_count": 3,
      "outputs": []
    },
    {
      "cell_type": "markdown",
      "source": [
        "## Carga y preparación del dataframe Pandas"
      ],
      "metadata": {
        "id": "Gl6E8M1YjHGa"
      }
    },
    {
      "cell_type": "code",
      "source": [
        "# Se crea el dataframe pandas con los metadatos \n",
        "# y se muestran las 5 primeras filas               \n",
        "df_ISIC = pd.read_csv('/content/drive/MyDrive/TFG/train.csv')\n",
        "df_ISIC.head(5)"
      ],
      "metadata": {
        "colab": {
          "base_uri": "https://localhost:8080/",
          "height": 270
        },
        "id": "OQOmjWvn-fPL",
        "outputId": "ec1df450-27da-4eb7-875f-a3a11ff4bfd7"
      },
      "execution_count": 4,
      "outputs": [
        {
          "output_type": "execute_result",
          "data": {
            "text/plain": [
              "     image_name  patient_id     sex  age_approx anatom_site_general_challenge  \\\n",
              "0  ISIC_0000000          -1  female        55.0                anterior torso   \n",
              "1  ISIC_0000001          -1  female        30.0                anterior torso   \n",
              "2  ISIC_0000002          -1  female        60.0               upper extremity   \n",
              "3  ISIC_0000003          -1    male        30.0               upper extremity   \n",
              "4  ISIC_0000004          -1    male        80.0               posterior torso   \n",
              "\n",
              "  diagnosis benign_malignant  target  tfrecord  width  height  \n",
              "0        NV           benign       0         4   1022     767  \n",
              "1        NV           benign       0        18   1022     767  \n",
              "2       MEL        malignant       1         0   1022     767  \n",
              "3        NV           benign       0        24   1022     767  \n",
              "4       MEL        malignant       1        14   1022     767  "
            ],
            "text/html": [
              "\n",
              "  <div id=\"df-1c421d1f-cef1-4e69-98f8-44724edfe02b\">\n",
              "    <div class=\"colab-df-container\">\n",
              "      <div>\n",
              "<style scoped>\n",
              "    .dataframe tbody tr th:only-of-type {\n",
              "        vertical-align: middle;\n",
              "    }\n",
              "\n",
              "    .dataframe tbody tr th {\n",
              "        vertical-align: top;\n",
              "    }\n",
              "\n",
              "    .dataframe thead th {\n",
              "        text-align: right;\n",
              "    }\n",
              "</style>\n",
              "<table border=\"1\" class=\"dataframe\">\n",
              "  <thead>\n",
              "    <tr style=\"text-align: right;\">\n",
              "      <th></th>\n",
              "      <th>image_name</th>\n",
              "      <th>patient_id</th>\n",
              "      <th>sex</th>\n",
              "      <th>age_approx</th>\n",
              "      <th>anatom_site_general_challenge</th>\n",
              "      <th>diagnosis</th>\n",
              "      <th>benign_malignant</th>\n",
              "      <th>target</th>\n",
              "      <th>tfrecord</th>\n",
              "      <th>width</th>\n",
              "      <th>height</th>\n",
              "    </tr>\n",
              "  </thead>\n",
              "  <tbody>\n",
              "    <tr>\n",
              "      <th>0</th>\n",
              "      <td>ISIC_0000000</td>\n",
              "      <td>-1</td>\n",
              "      <td>female</td>\n",
              "      <td>55.0</td>\n",
              "      <td>anterior torso</td>\n",
              "      <td>NV</td>\n",
              "      <td>benign</td>\n",
              "      <td>0</td>\n",
              "      <td>4</td>\n",
              "      <td>1022</td>\n",
              "      <td>767</td>\n",
              "    </tr>\n",
              "    <tr>\n",
              "      <th>1</th>\n",
              "      <td>ISIC_0000001</td>\n",
              "      <td>-1</td>\n",
              "      <td>female</td>\n",
              "      <td>30.0</td>\n",
              "      <td>anterior torso</td>\n",
              "      <td>NV</td>\n",
              "      <td>benign</td>\n",
              "      <td>0</td>\n",
              "      <td>18</td>\n",
              "      <td>1022</td>\n",
              "      <td>767</td>\n",
              "    </tr>\n",
              "    <tr>\n",
              "      <th>2</th>\n",
              "      <td>ISIC_0000002</td>\n",
              "      <td>-1</td>\n",
              "      <td>female</td>\n",
              "      <td>60.0</td>\n",
              "      <td>upper extremity</td>\n",
              "      <td>MEL</td>\n",
              "      <td>malignant</td>\n",
              "      <td>1</td>\n",
              "      <td>0</td>\n",
              "      <td>1022</td>\n",
              "      <td>767</td>\n",
              "    </tr>\n",
              "    <tr>\n",
              "      <th>3</th>\n",
              "      <td>ISIC_0000003</td>\n",
              "      <td>-1</td>\n",
              "      <td>male</td>\n",
              "      <td>30.0</td>\n",
              "      <td>upper extremity</td>\n",
              "      <td>NV</td>\n",
              "      <td>benign</td>\n",
              "      <td>0</td>\n",
              "      <td>24</td>\n",
              "      <td>1022</td>\n",
              "      <td>767</td>\n",
              "    </tr>\n",
              "    <tr>\n",
              "      <th>4</th>\n",
              "      <td>ISIC_0000004</td>\n",
              "      <td>-1</td>\n",
              "      <td>male</td>\n",
              "      <td>80.0</td>\n",
              "      <td>posterior torso</td>\n",
              "      <td>MEL</td>\n",
              "      <td>malignant</td>\n",
              "      <td>1</td>\n",
              "      <td>14</td>\n",
              "      <td>1022</td>\n",
              "      <td>767</td>\n",
              "    </tr>\n",
              "  </tbody>\n",
              "</table>\n",
              "</div>\n",
              "      <button class=\"colab-df-convert\" onclick=\"convertToInteractive('df-1c421d1f-cef1-4e69-98f8-44724edfe02b')\"\n",
              "              title=\"Convert this dataframe to an interactive table.\"\n",
              "              style=\"display:none;\">\n",
              "        \n",
              "  <svg xmlns=\"http://www.w3.org/2000/svg\" height=\"24px\"viewBox=\"0 0 24 24\"\n",
              "       width=\"24px\">\n",
              "    <path d=\"M0 0h24v24H0V0z\" fill=\"none\"/>\n",
              "    <path d=\"M18.56 5.44l.94 2.06.94-2.06 2.06-.94-2.06-.94-.94-2.06-.94 2.06-2.06.94zm-11 1L8.5 8.5l.94-2.06 2.06-.94-2.06-.94L8.5 2.5l-.94 2.06-2.06.94zm10 10l.94 2.06.94-2.06 2.06-.94-2.06-.94-.94-2.06-.94 2.06-2.06.94z\"/><path d=\"M17.41 7.96l-1.37-1.37c-.4-.4-.92-.59-1.43-.59-.52 0-1.04.2-1.43.59L10.3 9.45l-7.72 7.72c-.78.78-.78 2.05 0 2.83L4 21.41c.39.39.9.59 1.41.59.51 0 1.02-.2 1.41-.59l7.78-7.78 2.81-2.81c.8-.78.8-2.07 0-2.86zM5.41 20L4 18.59l7.72-7.72 1.47 1.35L5.41 20z\"/>\n",
              "  </svg>\n",
              "      </button>\n",
              "      \n",
              "  <style>\n",
              "    .colab-df-container {\n",
              "      display:flex;\n",
              "      flex-wrap:wrap;\n",
              "      gap: 12px;\n",
              "    }\n",
              "\n",
              "    .colab-df-convert {\n",
              "      background-color: #E8F0FE;\n",
              "      border: none;\n",
              "      border-radius: 50%;\n",
              "      cursor: pointer;\n",
              "      display: none;\n",
              "      fill: #1967D2;\n",
              "      height: 32px;\n",
              "      padding: 0 0 0 0;\n",
              "      width: 32px;\n",
              "    }\n",
              "\n",
              "    .colab-df-convert:hover {\n",
              "      background-color: #E2EBFA;\n",
              "      box-shadow: 0px 1px 2px rgba(60, 64, 67, 0.3), 0px 1px 3px 1px rgba(60, 64, 67, 0.15);\n",
              "      fill: #174EA6;\n",
              "    }\n",
              "\n",
              "    [theme=dark] .colab-df-convert {\n",
              "      background-color: #3B4455;\n",
              "      fill: #D2E3FC;\n",
              "    }\n",
              "\n",
              "    [theme=dark] .colab-df-convert:hover {\n",
              "      background-color: #434B5C;\n",
              "      box-shadow: 0px 1px 3px 1px rgba(0, 0, 0, 0.15);\n",
              "      filter: drop-shadow(0px 1px 2px rgba(0, 0, 0, 0.3));\n",
              "      fill: #FFFFFF;\n",
              "    }\n",
              "  </style>\n",
              "\n",
              "      <script>\n",
              "        const buttonEl =\n",
              "          document.querySelector('#df-1c421d1f-cef1-4e69-98f8-44724edfe02b button.colab-df-convert');\n",
              "        buttonEl.style.display =\n",
              "          google.colab.kernel.accessAllowed ? 'block' : 'none';\n",
              "\n",
              "        async function convertToInteractive(key) {\n",
              "          const element = document.querySelector('#df-1c421d1f-cef1-4e69-98f8-44724edfe02b');\n",
              "          const dataTable =\n",
              "            await google.colab.kernel.invokeFunction('convertToInteractive',\n",
              "                                                     [key], {});\n",
              "          if (!dataTable) return;\n",
              "\n",
              "          const docLinkHtml = 'Like what you see? Visit the ' +\n",
              "            '<a target=\"_blank\" href=https://colab.research.google.com/notebooks/data_table.ipynb>data table notebook</a>'\n",
              "            + ' to learn more about interactive tables.';\n",
              "          element.innerHTML = '';\n",
              "          dataTable['output_type'] = 'display_data';\n",
              "          await google.colab.output.renderOutput(dataTable, element);\n",
              "          const docLink = document.createElement('div');\n",
              "          docLink.innerHTML = docLinkHtml;\n",
              "          element.appendChild(docLink);\n",
              "        }\n",
              "      </script>\n",
              "    </div>\n",
              "  </div>\n",
              "  "
            ]
          },
          "metadata": {},
          "execution_count": 4
        }
      ]
    },
    {
      "cell_type": "code",
      "source": [
        "# Se comprueba que no hay información de ID de paciente\n",
        "df_ISIC[\"patient_id\"].unique()"
      ],
      "metadata": {
        "colab": {
          "base_uri": "https://localhost:8080/"
        },
        "id": "hPly-SDG-s2r",
        "outputId": "80a38088-7d36-4b95-83a3-c80bf68c913b"
      },
      "execution_count": 5,
      "outputs": [
        {
          "output_type": "execute_result",
          "data": {
            "text/plain": [
              "array([-1])"
            ]
          },
          "metadata": {},
          "execution_count": 5
        }
      ]
    },
    {
      "cell_type": "code",
      "source": [
        "# Dimensiones del dataframe con los metadatos\n",
        "df_ISIC.shape"
      ],
      "metadata": {
        "colab": {
          "base_uri": "https://localhost:8080/"
        },
        "id": "1mF4LoibCk-i",
        "outputId": "3f4f6053-33ad-4e9c-c2df-0d9acbfe50e0"
      },
      "execution_count": 6,
      "outputs": [
        {
          "output_type": "execute_result",
          "data": {
            "text/plain": [
              "(25331, 11)"
            ]
          },
          "metadata": {},
          "execution_count": 6
        }
      ]
    },
    {
      "cell_type": "code",
      "source": [
        "# Se crea el dataframe pandas con los tipos de tono de piel ITA \n",
        "# y se muestran las 5 primeras filas               \n",
        "df_ITA = pd.read_csv('/content/drive/MyDrive/TFG/TFG_tono_piel_ITA.csv')\n",
        "df_ITA.head(5)"
      ],
      "metadata": {
        "colab": {
          "base_uri": "https://localhost:8080/",
          "height": 206
        },
        "id": "fPYYBV6UY06o",
        "outputId": "9999e013-d351-45f1-fa6e-fa9a4997181c"
      },
      "execution_count": 7,
      "outputs": [
        {
          "output_type": "execute_result",
          "data": {
            "text/plain": [
              "     image_name  tipo_ITA\n",
              "0  ISIC_0000002         6\n",
              "1  ISIC_0053467         1\n",
              "2  ISIC_0053459         1\n",
              "3  ISIC_0000000         6\n",
              "4  ISIC_0053470         6"
            ],
            "text/html": [
              "\n",
              "  <div id=\"df-afa773ef-902b-42e8-9436-a66d97a99b9b\">\n",
              "    <div class=\"colab-df-container\">\n",
              "      <div>\n",
              "<style scoped>\n",
              "    .dataframe tbody tr th:only-of-type {\n",
              "        vertical-align: middle;\n",
              "    }\n",
              "\n",
              "    .dataframe tbody tr th {\n",
              "        vertical-align: top;\n",
              "    }\n",
              "\n",
              "    .dataframe thead th {\n",
              "        text-align: right;\n",
              "    }\n",
              "</style>\n",
              "<table border=\"1\" class=\"dataframe\">\n",
              "  <thead>\n",
              "    <tr style=\"text-align: right;\">\n",
              "      <th></th>\n",
              "      <th>image_name</th>\n",
              "      <th>tipo_ITA</th>\n",
              "    </tr>\n",
              "  </thead>\n",
              "  <tbody>\n",
              "    <tr>\n",
              "      <th>0</th>\n",
              "      <td>ISIC_0000002</td>\n",
              "      <td>6</td>\n",
              "    </tr>\n",
              "    <tr>\n",
              "      <th>1</th>\n",
              "      <td>ISIC_0053467</td>\n",
              "      <td>1</td>\n",
              "    </tr>\n",
              "    <tr>\n",
              "      <th>2</th>\n",
              "      <td>ISIC_0053459</td>\n",
              "      <td>1</td>\n",
              "    </tr>\n",
              "    <tr>\n",
              "      <th>3</th>\n",
              "      <td>ISIC_0000000</td>\n",
              "      <td>6</td>\n",
              "    </tr>\n",
              "    <tr>\n",
              "      <th>4</th>\n",
              "      <td>ISIC_0053470</td>\n",
              "      <td>6</td>\n",
              "    </tr>\n",
              "  </tbody>\n",
              "</table>\n",
              "</div>\n",
              "      <button class=\"colab-df-convert\" onclick=\"convertToInteractive('df-afa773ef-902b-42e8-9436-a66d97a99b9b')\"\n",
              "              title=\"Convert this dataframe to an interactive table.\"\n",
              "              style=\"display:none;\">\n",
              "        \n",
              "  <svg xmlns=\"http://www.w3.org/2000/svg\" height=\"24px\"viewBox=\"0 0 24 24\"\n",
              "       width=\"24px\">\n",
              "    <path d=\"M0 0h24v24H0V0z\" fill=\"none\"/>\n",
              "    <path d=\"M18.56 5.44l.94 2.06.94-2.06 2.06-.94-2.06-.94-.94-2.06-.94 2.06-2.06.94zm-11 1L8.5 8.5l.94-2.06 2.06-.94-2.06-.94L8.5 2.5l-.94 2.06-2.06.94zm10 10l.94 2.06.94-2.06 2.06-.94-2.06-.94-.94-2.06-.94 2.06-2.06.94z\"/><path d=\"M17.41 7.96l-1.37-1.37c-.4-.4-.92-.59-1.43-.59-.52 0-1.04.2-1.43.59L10.3 9.45l-7.72 7.72c-.78.78-.78 2.05 0 2.83L4 21.41c.39.39.9.59 1.41.59.51 0 1.02-.2 1.41-.59l7.78-7.78 2.81-2.81c.8-.78.8-2.07 0-2.86zM5.41 20L4 18.59l7.72-7.72 1.47 1.35L5.41 20z\"/>\n",
              "  </svg>\n",
              "      </button>\n",
              "      \n",
              "  <style>\n",
              "    .colab-df-container {\n",
              "      display:flex;\n",
              "      flex-wrap:wrap;\n",
              "      gap: 12px;\n",
              "    }\n",
              "\n",
              "    .colab-df-convert {\n",
              "      background-color: #E8F0FE;\n",
              "      border: none;\n",
              "      border-radius: 50%;\n",
              "      cursor: pointer;\n",
              "      display: none;\n",
              "      fill: #1967D2;\n",
              "      height: 32px;\n",
              "      padding: 0 0 0 0;\n",
              "      width: 32px;\n",
              "    }\n",
              "\n",
              "    .colab-df-convert:hover {\n",
              "      background-color: #E2EBFA;\n",
              "      box-shadow: 0px 1px 2px rgba(60, 64, 67, 0.3), 0px 1px 3px 1px rgba(60, 64, 67, 0.15);\n",
              "      fill: #174EA6;\n",
              "    }\n",
              "\n",
              "    [theme=dark] .colab-df-convert {\n",
              "      background-color: #3B4455;\n",
              "      fill: #D2E3FC;\n",
              "    }\n",
              "\n",
              "    [theme=dark] .colab-df-convert:hover {\n",
              "      background-color: #434B5C;\n",
              "      box-shadow: 0px 1px 3px 1px rgba(0, 0, 0, 0.15);\n",
              "      filter: drop-shadow(0px 1px 2px rgba(0, 0, 0, 0.3));\n",
              "      fill: #FFFFFF;\n",
              "    }\n",
              "  </style>\n",
              "\n",
              "      <script>\n",
              "        const buttonEl =\n",
              "          document.querySelector('#df-afa773ef-902b-42e8-9436-a66d97a99b9b button.colab-df-convert');\n",
              "        buttonEl.style.display =\n",
              "          google.colab.kernel.accessAllowed ? 'block' : 'none';\n",
              "\n",
              "        async function convertToInteractive(key) {\n",
              "          const element = document.querySelector('#df-afa773ef-902b-42e8-9436-a66d97a99b9b');\n",
              "          const dataTable =\n",
              "            await google.colab.kernel.invokeFunction('convertToInteractive',\n",
              "                                                     [key], {});\n",
              "          if (!dataTable) return;\n",
              "\n",
              "          const docLinkHtml = 'Like what you see? Visit the ' +\n",
              "            '<a target=\"_blank\" href=https://colab.research.google.com/notebooks/data_table.ipynb>data table notebook</a>'\n",
              "            + ' to learn more about interactive tables.';\n",
              "          element.innerHTML = '';\n",
              "          dataTable['output_type'] = 'display_data';\n",
              "          await google.colab.output.renderOutput(dataTable, element);\n",
              "          const docLink = document.createElement('div');\n",
              "          docLink.innerHTML = docLinkHtml;\n",
              "          element.appendChild(docLink);\n",
              "        }\n",
              "      </script>\n",
              "    </div>\n",
              "  </div>\n",
              "  "
            ]
          },
          "metadata": {},
          "execution_count": 7
        }
      ]
    },
    {
      "cell_type": "code",
      "source": [
        "# Dimensiones del dataframe con los tipos de tono de piel ITA \n",
        "df_ITA.shape"
      ],
      "metadata": {
        "colab": {
          "base_uri": "https://localhost:8080/"
        },
        "id": "Gol10XOba4mj",
        "outputId": "ab03525f-4cc5-4322-b4ae-6bb05cb15cc2"
      },
      "execution_count": 8,
      "outputs": [
        {
          "output_type": "execute_result",
          "data": {
            "text/plain": [
              "(23218, 2)"
            ]
          },
          "metadata": {},
          "execution_count": 8
        }
      ]
    },
    {
      "cell_type": "code",
      "source": [
        "# Se elimina la columna de ID de paciente\n",
        "# y otras columnas no necesarias\n",
        "df_ISIC = df_ISIC.drop(columns=[\"patient_id\", \"tfrecord\", \"width\", \"height\"], axis=1)"
      ],
      "metadata": {
        "id": "33i0PmbCB9GF"
      },
      "execution_count": 9,
      "outputs": []
    },
    {
      "cell_type": "code",
      "source": [
        "# Se cuentan cuantas imágenes son \"downsampled\"\n",
        "df_ISIC[df_ISIC['image_name'].str.contains(\"_downsampled\")]['image_name'].count()"
      ],
      "metadata": {
        "colab": {
          "base_uri": "https://localhost:8080/"
        },
        "id": "rzGsfTtdCAZi",
        "outputId": "bdca9293-e46b-43de-e692-da8807afbfcc"
      },
      "execution_count": 10,
      "outputs": [
        {
          "output_type": "execute_result",
          "data": {
            "text/plain": [
              "2074"
            ]
          },
          "metadata": {},
          "execution_count": 10
        }
      ]
    },
    {
      "cell_type": "code",
      "source": [
        "# Se eliminan los registros con imágenes \"downsampled\"\n",
        "df_ISIC = df_ISIC[df_ISIC['image_name'].str.contains(\"_downsampled\")==False]"
      ],
      "metadata": {
        "id": "-Ny28zOvL5ld"
      },
      "execution_count": 11,
      "outputs": []
    },
    {
      "cell_type": "code",
      "source": [
        "# Dimensiones del dataframe con los metadatos"
      ],
      "metadata": {
        "id": "gJyrGcK3HCps"
      },
      "execution_count": 12,
      "outputs": []
    },
    {
      "cell_type": "code",
      "source": [
        "# Se combinan los dataframes de metadatos y tipos de tono de piel\n",
        "df_ISIC = df_ISIC.merge(df_ITA, on='image_name', how='left')"
      ],
      "metadata": {
        "id": "eHuy4ZLLbjah"
      },
      "execution_count": 13,
      "outputs": []
    },
    {
      "cell_type": "code",
      "source": [
        "# Dimensiones del dataframe con datos combinados\n",
        "df_ISIC.shape"
      ],
      "metadata": {
        "colab": {
          "base_uri": "https://localhost:8080/"
        },
        "id": "YYMVz5X-cAqH",
        "outputId": "93a4e0ec-7b99-4b6d-d5f2-c05e54f767be"
      },
      "execution_count": 14,
      "outputs": [
        {
          "output_type": "execute_result",
          "data": {
            "text/plain": [
              "(23257, 8)"
            ]
          },
          "metadata": {},
          "execution_count": 14
        }
      ]
    },
    {
      "cell_type": "code",
      "source": [
        "# Se convierte el tipo de tono de piel a cadena\n",
        "df_ISIC[\"tipo_ITA\"] = df_ISIC[\"tipo_ITA\"].fillna(\"-1\").astype(int).astype(str).replace('-1', None)\n",
        "# Se crean agrupamientos de edades\n",
        "bins = [0, 15, 30, 45, 60, 75, 90, 120]\n",
        "# Se crea una nueva columna con agrupaciones por edades\n",
        "df_ISIC['age_group_approx'] = pd.cut(df_ISIC['age_approx'], bins).astype(str).replace('nan', None)\n",
        "df_ISIC.dtypes"
      ],
      "metadata": {
        "colab": {
          "base_uri": "https://localhost:8080/"
        },
        "id": "tp0MdNC3OfnE",
        "outputId": "d865c404-fcd0-40e6-a2d7-10e980381078"
      },
      "execution_count": 15,
      "outputs": [
        {
          "output_type": "execute_result",
          "data": {
            "text/plain": [
              "image_name                        object\n",
              "sex                               object\n",
              "age_approx                       float64\n",
              "anatom_site_general_challenge     object\n",
              "diagnosis                         object\n",
              "benign_malignant                  object\n",
              "target                             int64\n",
              "tipo_ITA                          object\n",
              "age_group_approx                  object\n",
              "dtype: object"
            ]
          },
          "metadata": {},
          "execution_count": 15
        }
      ]
    },
    {
      "cell_type": "markdown",
      "source": [
        "## Análisis exploratorio de datos"
      ],
      "metadata": {
        "id": "ld6rv9EDkw0p"
      }
    },
    {
      "cell_type": "code",
      "source": [
        "# Se transforma el valor binario del diagnóstico a texto\n",
        "df_ISIC['target'] = df_ISIC['target'].replace({0: \"no melanoma\", 1: \"melanoma\"})"
      ],
      "metadata": {
        "id": "zJqLPPHi2gqe"
      },
      "execution_count": 16,
      "outputs": []
    },
    {
      "cell_type": "code",
      "source": [
        "print(\"Total de casos\\n\")\n",
        "print(\"Totales\")\n",
        "print((df_ISIC['target'].value_counts()).to_string())\n",
        "print(\"\\nPorcentajes\")\n",
        "print(round(df_ISIC['target'].value_counts(normalize=True) * 100,2).to_string())"
      ],
      "metadata": {
        "colab": {
          "base_uri": "https://localhost:8080/"
        },
        "id": "bMq4vmVGUXGd",
        "outputId": "53193478-72e7-4db6-cddb-7c9ee49ab641"
      },
      "execution_count": 17,
      "outputs": [
        {
          "output_type": "stream",
          "name": "stdout",
          "text": [
            "Total de casos\n",
            "\n",
            "Totales\n",
            "no melanoma    19109\n",
            "melanoma        4148\n",
            "\n",
            "Porcentajes\n",
            "no melanoma    82.16\n",
            "melanoma       17.84\n"
          ]
        }
      ]
    },
    {
      "cell_type": "code",
      "source": [
        "col_categories = [\"sex\", \"age_group_approx\", \"tipo_ITA\", \"anatom_site_general_challenge\"]\n",
        "for col in col_categories:\n",
        "  print(col)\n",
        "  print(\"===============================\")\n",
        "  print(\"Totales\")\n",
        "  print(pd.crosstab(df_ISIC[col],df_ISIC[\"target\"]))\n",
        "  print(\"\\nPorcentajes\")\n",
        "  crosstb = round(pd.crosstab(df_ISIC[col],df_ISIC[\"target\"], normalize='index')*100, 1)\n",
        "  print(crosstb)\n",
        "  crosstb.plot(kind=\"bar\", stacked=True, rot=0, figsize=(7,4))\n",
        "  plt.show()\n",
        "  print(\"\\n\")"
      ],
      "metadata": {
        "colab": {
          "base_uri": "https://localhost:8080/",
          "height": 1000
        },
        "id": "uNTtwTJxM8ZT",
        "outputId": "58c488aa-04d6-4e5d-92dd-645201ded216"
      },
      "execution_count": 18,
      "outputs": [
        {
          "output_type": "stream",
          "name": "stdout",
          "text": [
            "sex\n",
            "===============================\n",
            "Totales\n",
            "target   melanoma  no melanoma\n",
            "sex                           \n",
            "female       1867         8907\n",
            "male         2247        10032\n",
            "unknown        34          170\n",
            "\n",
            "Porcentajes\n",
            "target   melanoma  no melanoma\n",
            "sex                           \n",
            "female       17.3         82.7\n",
            "male         18.3         81.7\n",
            "unknown      16.7         83.3\n"
          ]
        },
        {
          "output_type": "display_data",
          "data": {
            "text/plain": [
              "<Figure size 504x288 with 1 Axes>"
            ],
            "image/png": "[encoded data removed]"
          },
          "metadata": {}
        },
        {
          "output_type": "stream",
          "name": "stdout",
          "text": [
            "\n",
            "\n",
            "age_group_approx\n",
            "===============================\n",
            "Totales\n",
            "target            melanoma  no melanoma\n",
            "age_group_approx                       \n",
            "(0, 15]                 28          482\n",
            "(15, 30]               155         1943\n",
            "(30, 45]               776         5364\n",
            "(45, 60]              1192         5096\n",
            "(60, 75]              1303         4278\n",
            "(75, 90]               694         1946\n",
            "\n",
            "Porcentajes\n",
            "target            melanoma  no melanoma\n",
            "age_group_approx                       \n",
            "(0, 15]                5.5         94.5\n",
            "(15, 30]               7.4         92.6\n",
            "(30, 45]              12.6         87.4\n",
            "(45, 60]              19.0         81.0\n",
            "(60, 75]              23.3         76.7\n",
            "(75, 90]              26.3         73.7\n"
          ]
        },
        {
          "output_type": "display_data",
          "data": {
            "text/plain": [
              "<Figure size 504x288 with 1 Axes>"
            ],
            "image/png": "[encoded data removed]"
          },
          "metadata": {}
        },
        {
          "output_type": "stream",
          "name": "stdout",
          "text": [
            "\n",
            "\n",
            "tipo_ITA\n",
            "===============================\n",
            "Totales\n",
            "target    melanoma  no melanoma\n",
            "tipo_ITA                       \n",
            "1             3192        14098\n",
            "2              148         1020\n",
            "3               79          640\n",
            "4               42          298\n",
            "5               25          166\n",
            "6              662         2887\n",
            "\n",
            "Porcentajes\n",
            "target    melanoma  no melanoma\n",
            "tipo_ITA                       \n",
            "1             18.5         81.5\n",
            "2             12.7         87.3\n",
            "3             11.0         89.0\n",
            "4             12.4         87.6\n",
            "5             13.1         86.9\n",
            "6             18.7         81.3\n"
          ]
        },
        {
          "output_type": "display_data",
          "data": {
            "text/plain": [
              "<Figure size 504x288 with 1 Axes>"
            ],
            "image/png": "[encoded data removed]"
          },
          "metadata": {}
        },
        {
          "output_type": "stream",
          "name": "stdout",
          "text": [
            "\n",
            "\n",
            "anatom_site_general_challenge\n",
            "===============================\n",
            "Totales\n",
            "target                         melanoma  no melanoma\n",
            "anatom_site_general_challenge                       \n",
            "anterior torso                     1284         5399\n",
            "head/neck                           822         3564\n",
            "lateral torso                         3            3\n",
            "lower extremity                     737         3997\n",
            "oral/genital                         19           40\n",
            "palms/soles                         198          193\n",
            "posterior torso                     370         2096\n",
            "upper extremity                     639         2010\n",
            "\n",
            "Porcentajes\n",
            "target                         melanoma  no melanoma\n",
            "anatom_site_general_challenge                       \n",
            "anterior torso                     19.2         80.8\n",
            "head/neck                          18.7         81.3\n",
            "lateral torso                      50.0         50.0\n",
            "lower extremity                    15.6         84.4\n",
            "oral/genital                       32.2         67.8\n",
            "palms/soles                        50.6         49.4\n",
            "posterior torso                    15.0         85.0\n",
            "upper extremity                    24.1         75.9\n"
          ]
        },
        {
          "output_type": "display_data",
          "data": {
            "text/plain": [
              "<Figure size 504x288 with 1 Axes>"
            ],
            "image/png": "[encoded data removed]"
          },
          "metadata": {}
        },
        {
          "output_type": "stream",
          "name": "stdout",
          "text": [
            "\n",
            "\n"
          ]
        }
      ]
    },
    {
      "cell_type": "code",
      "source": [
        "col_bars = {\n",
        "    \"sex\": \"Sexo\",\n",
        "    \"age_group_approx\": \"Grupo de edad aproximada\",\n",
        "    \"tipo_ITA\": \"tipo de tono de piel ITA\"\n",
        "}\n",
        "\n",
        "for key, value in col_bars.items():\n",
        "  ax = df_ISIC[key]\\\n",
        "                             .value_counts().sort_index()\\\n",
        "                             .plot(kind='bar',\n",
        "                             figsize=(7,4));\n",
        "  ax.set_xlabel(value);\n",
        "  ax.set_ylabel(\"Número de imágenes\");\n",
        "  plt.show();"
      ],
      "metadata": {
        "colab": {
          "base_uri": "https://localhost:8080/",
          "height": 891
        },
        "id": "xC7_mv6wYd8t",
        "outputId": "7769ea89-d4cd-46ad-bbd7-55f23d7436bd"
      },
      "execution_count": 19,
      "outputs": [
        {
          "output_type": "display_data",
          "data": {
            "text/plain": [
              "<Figure size 504x288 with 1 Axes>"
            ],
            "image/png": "[encoded data removed]"
          },
          "metadata": {}
        },
        {
          "output_type": "display_data",
          "data": {
            "text/plain": [
              "<Figure size 504x288 with 1 Axes>"
            ],
            "image/png": "[encoded data removed]"
          },
          "metadata": {}
        },
        {
          "output_type": "display_data",
          "data": {
            "text/plain": [
              "<Figure size 504x288 with 1 Axes>"
            ],
            "image/png": "[encoded data removed]"
          },
          "metadata": {}
        }
      ]
    },
    {
      "cell_type": "code",
      "source": [
        "# Se transforma el valor de diagnóstico de texto a binario\n",
        "df_ISIC['target'] = df_ISIC['target'].replace({\"no melanoma\": 0, \"melanoma\": 1})\n",
        "# Guarda el dataframe en un fichero CSV\n",
        "df_ISIC.to_csv(\"/content/drive/MyDrive/TFG/TFG_metadatos.csv\",index=False)"
      ],
      "metadata": {
        "id": "gw-qs_PofIiO"
      },
      "execution_count": 20,
      "outputs": []
    }
  ]
}